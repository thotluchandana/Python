{
 "cells": [
  {
   "cell_type": "code",
   "execution_count": 3,
   "metadata": {},
   "outputs": [
    {
     "name": "stdout",
     "output_type": "stream",
     "text": [
      "Last three characters: hon\n"
     ]
    }
   ],
   "source": [
    "def last_three_chars(input_string):\n",
    "    if len(input_string) >= 3:\n",
    "        last_chars = input_string[-3:]\n",
    "        print(\"Last three characters:\", last_chars)\n",
    "    else:\n",
    "        print(\"Input string does not have at least three characters\")\n",
    "\n",
    "input_string = \"Hello python\"\n",
    "last_three_chars(input_string)\n"
   ]
  },
  {
   "cell_type": "code",
   "execution_count": 4,
   "metadata": {},
   "outputs": [
    {
     "name": "stdout",
     "output_type": "stream",
     "text": [
      "Modified string: HeLLo\n"
     ]
    }
   ],
   "source": [
    "def replace_letter(string):\n",
    "    modified_string = string.replace('l', 'L')\n",
    "    print(\"Modified string:\", modified_string)\n",
    "\n",
    "input_string = \"Hello\"\n",
    "replace_letter(input_string)\n"
   ]
  },
  {
   "cell_type": "code",
   "execution_count": 5,
   "metadata": {},
   "outputs": [
    {
     "name": "stdout",
     "output_type": "stream",
     "text": [
      "True\n"
     ]
    }
   ],
   "source": [
    "def is_even(num):\n",
    "    return num % 2 == 0\n",
    "\n",
    "num = 6\n",
    "print(is_even(num))"
   ]
  },
  {
   "cell_type": "code",
   "execution_count": 6,
   "metadata": {},
   "outputs": [
    {
     "name": "stdout",
     "output_type": "stream",
     "text": [
      "True\n"
     ]
    }
   ],
   "source": [
    "def divisible_by_3_and_5(number):\n",
    "    return number % 3 == 0 and number % 5 == 0\n",
    "\n",
    "num = 15\n",
    "print(divisible_by_3_and_5(num)) "
   ]
  },
  {
   "cell_type": "code",
   "execution_count": 7,
   "metadata": {},
   "outputs": [
    {
     "name": "stdout",
     "output_type": "stream",
     "text": [
      "Modified string: orange is a fruit. I like banana.\n"
     ]
    }
   ],
   "source": [
    "def replace(string):\n",
    "    modified_string = string.replace('banana', 'orange', 1)\n",
    "    print(\"Modified string:\", modified_string)\n",
    "\n",
    "input_string = \"banana is a fruit. I like banana.\"\n",
    "replace(input_string)\n"
   ]
  },
  {
   "cell_type": "code",
   "execution_count": 8,
   "metadata": {},
   "outputs": [
    {
     "name": "stdout",
     "output_type": "stream",
     "text": [
      "Common elements: {3, 4}\n"
     ]
    }
   ],
   "source": [
    "def common_elements(s1, s2):\n",
    "    return s1.intersection(s2)\n",
    "\n",
    "\n",
    "s1 = {1, 2, 3, 4, 5}\n",
    "s2 = {7, 4, 3, 6, 7}\n",
    "result_set = common_elements(s1, s2)\n",
    "print(\"Common elements:\", result_set)\n"
   ]
  },
  {
   "cell_type": "code",
   "execution_count": 9,
   "metadata": {},
   "outputs": [
    {
     "name": "stdout",
     "output_type": "stream",
     "text": [
      "Students who scored the highest grade: ['Charlie', 'David']\n"
     ]
    }
   ],
   "source": [
    "def find_highest_scorers(grades_dict):\n",
    "    max_grade = max(grades_dict.values())\n",
    "\n",
    "    highest_scorers = [student for student, grade in grades_dict.items() if grade == max_grade]\n",
    "\n",
    "    return highest_scorers\n",
    "\n",
    "grades_dict = {\n",
    "    \"Alice\": 90,\n",
    "    \"Bob\": 85,\n",
    "    \"Charlie\": 95,\n",
    "    \"David\": 95\n",
    "}\n",
    "highest_scorers = find_highest_scorers(grades_dict)\n",
    "print(\"Students who scored the highest grade:\", highest_scorers)\n"
   ]
  },
  {
   "cell_type": "code",
   "execution_count": 3,
   "metadata": {},
   "outputs": [
    {
     "name": "stdout",
     "output_type": "stream",
     "text": [
      "The number is negative.\n"
     ]
    }
   ],
   "source": [
    "num = -5\n",
    "\n",
    "if num > 0:\n",
    "    print(\"The number is positive.\")\n",
    "elif num < 0:\n",
    "    print(\"The number is negative.\")\n",
    "else:\n",
    "    print(\"The number is zero.\")\n"
   ]
  },
  {
   "cell_type": "code",
   "execution_count": 7,
   "metadata": {},
   "outputs": [
    {
     "name": "stdout",
     "output_type": "stream",
     "text": [
      "The factorial is 120\n"
     ]
    }
   ],
   "source": [
    "num = 5\n",
    "\n",
    "factorial = 1\n",
    "\n",
    "if num < 0:\n",
    "    print(\"Factorial does not exist for negative numbers.\")\n",
    "elif num == 0:\n",
    "    print(\"The factorial of 0 is 1\")\n",
    "else:\n",
    "    while num > 0:\n",
    "        factorial *= num\n",
    "        num -= 1\n",
    "    print(\"The factorial is\", factorial)\n"
   ]
  },
  {
   "cell_type": "code",
   "execution_count": 13,
   "metadata": {},
   "outputs": [
    {
     "name": "stdout",
     "output_type": "stream",
     "text": [
      "The square of 2 is 4\n",
      "The square of 3 is 9\n",
      "The square of 5 is 25\n",
      "The square of 7 is 49\n",
      "The square of 11 is 121\n"
     ]
    }
   ],
   "source": [
    "numbers = [2, 3, 5, 7, 11]\n",
    "\n",
    "for num in numbers:\n",
    "    square = num ** 2\n",
    "    print(f\"The square of {num} is {square}\")\n"
   ]
  },
  {
   "cell_type": "code",
   "execution_count": 14,
   "metadata": {},
   "outputs": [
    {
     "name": "stdout",
     "output_type": "stream",
     "text": [
      "The maximum height is: 180\n",
      "The minimum height is: 152\n"
     ]
    }
   ],
   "source": [
    "heights = (160, 175, 152, 180, 165)\n",
    "\n",
    "max_height = max(heights)\n",
    "min_height = min(heights)\n",
    "\n",
    "print(f\"The maximum height is: {max_height}\")\n",
    "print(f\"The minimum height is: {min_height}\")\n"
   ]
  },
  {
   "cell_type": "code",
   "execution_count": 15,
   "metadata": {},
   "outputs": [
    {
     "name": "stdout",
     "output_type": "stream",
     "text": [
      "subset is a subset of main_set\n"
     ]
    }
   ],
   "source": [
    "main_set = {1, 2, 3, 4, 5, 6}\n",
    "\n",
    "subset = {2, 3, 4}\n",
    "\n",
    "if subset.issubset(main_set):\n",
    "    print(\"subset is a subset of main_set\")\n",
    "else:\n",
    "    print(\"subset is not a subset of main_set\")\n"
   ]
  },
  {
   "cell_type": "code",
   "execution_count": 16,
   "metadata": {},
   "outputs": [
    {
     "name": "stdout",
     "output_type": "stream",
     "text": [
      "Combined Inventory:\n",
      "apple: 10\n",
      "banana: 3\n",
      "orange: 8\n",
      "grapes: 12\n",
      "kiwi: 7\n"
     ]
    }
   ],
   "source": [
    "store1_inventory = {\n",
    "    'apple': 10,\n",
    "    'banana': 5,\n",
    "    'orange': 8\n",
    "}\n",
    "\n",
    "store2_inventory = {\n",
    "    'banana': 3,\n",
    "    'grapes': 12,\n",
    "    'kiwi': 7\n",
    "}\n",
    "\n",
    "combined_inventory = {**store1_inventory, **store2_inventory}\n",
    "\n",
    "print(\"Combined Inventory:\")\n",
    "for item, quantity in combined_inventory.items():\n",
    "    print(f\"{item}: {quantity}\")\n"
   ]
  },
  {
   "cell_type": "code",
   "execution_count": 17,
   "metadata": {},
   "outputs": [
    {
     "name": "stdout",
     "output_type": "stream",
     "text": [
      "The Euclidean distance between (1, 2) and (4, 6) is 5.00\n"
     ]
    }
   ],
   "source": [
    "import math\n",
    "\n",
    "def euclidean_distance(point1, point2):\n",
    "    x1, y1 = point1\n",
    "    x2, y2 = point2\n",
    "    distance = math.sqrt((x2 - x1)**2 + (y2 - y1)**2)\n",
    "    return distance\n",
    "\n",
    "point1 = (1, 2)\n",
    "point2 = (4, 6)\n",
    "\n",
    "distance = euclidean_distance(point1, point2)\n",
    "\n",
    "print(f\"The Euclidean distance between {point1} and {point2} is {distance:.2f}\")\n"
   ]
  }
 ],
 "metadata": {
  "kernelspec": {
   "display_name": "Python 3",
   "language": "python",
   "name": "python3"
  },
  "language_info": {
   "codemirror_mode": {
    "name": "ipython",
    "version": 3
   },
   "file_extension": ".py",
   "mimetype": "text/x-python",
   "name": "python",
   "nbconvert_exporter": "python",
   "pygments_lexer": "ipython3",
   "version": "3.12.1"
  }
 },
 "nbformat": 4,
 "nbformat_minor": 2
}
